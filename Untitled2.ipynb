{
 "cells": [
  {
   "cell_type": "code",
   "execution_count": 1,
   "metadata": {},
   "outputs": [
    {
     "name": "stdout",
     "output_type": "stream",
     "text": [
      "Current date and time: \n",
      "2021-01-07 12:20:26.639581\n",
      "Imported libraries for the script\n",
      "STARTING Google Geocoding API Example Script\n",
      "=> API Calls, Request/Response, Authentication, Data Management/Filtering/Selecting/Transforming\n"
     ]
    }
   ],
   "source": [
    "#### Google Geocoding API\n",
    "#### Y. Rooseleer, BiASC\n",
    "#### => API Calls, Request/Response, Authentication, Data Management/Filtering/Selecting/Transforming\n",
    "import requests\n",
    "import json\n",
    "import datetime\n",
    "print (\"Current date and time: \")\n",
    "print(datetime.datetime.now())\n",
    "print('Imported libraries for the script')\n",
    "print('STARTING Google Geocoding API Example Script')\n",
    "print('=> API Calls, Request/Response, Authentication, Data Management/Filtering/Selecting/Transforming')\n",
    "#dir(urllib)\n",
    "#dir(requests)\n"
   ]
  },
  {
   "cell_type": "code",
   "execution_count": 2,
   "metadata": {},
   "outputs": [
    {
     "name": "stdout",
     "output_type": "stream",
     "text": [
      "Current date and time: \n",
      "2021-01-07 12:20:38.556526\n",
      "Getting input\n",
      "Town or City? Kester\n"
     ]
    }
   ],
   "source": [
    "\n",
    "import datetime\n",
    "print (\"Current date and time: \")\n",
    "print(datetime.datetime.now())\n",
    "print('Getting input')\n",
    "#####\n",
    "address = input(\"Town or City? \")\n",
    "                \n",
    "    "
   ]
  },
  {
   "cell_type": "code",
   "execution_count": 5,
   "metadata": {},
   "outputs": [
    {
     "name": "stdout",
     "output_type": "stream",
     "text": [
      "Current date and time: \n",
      "2021-01-07 12:23:31.908793\n",
      "Creating full request\n",
      "https://maps.googleapis.com/maps/api/geocode/json?key=AlzaSyCrE4ZTpNDfS1v0sE8ElsyueCArVTJfegQ&address=Kester\n",
      "------1--------\n",
      "<class 'requests.models.Response'>\n",
      "------2--------\n",
      "200\n",
      "------3--------\n",
      "{\n",
      "   \"error_message\" : \"The provided API key is invalid.\",\n",
      "   \"results\" : [],\n",
      "   \"status\" : \"REQUEST_DENIED\"\n",
      "}\n",
      "\n",
      "------4--------\n",
      "<class 'dict'>\n",
      "------5--------\n",
      "{'error_message': 'The provided API key is invalid.', 'results': [], 'status': 'REQUEST_DENIED'}\n"
     ]
    }
   ],
   "source": [
    "import requests\n",
    "import datetime\n",
    "import json\n",
    "print (\"Current date and time: \")\n",
    "print(datetime.datetime.now())\n",
    "api_scheme = \"https://\"\n",
    "api_authority = \"maps.googleapis.com\"\n",
    "api_path = \"/maps/api/geocode/json\"\n",
    "main_api = api_scheme + api_authority + api_path\n",
    "#main_api = \"https://maps.googleapis.com/maps/api/geocode/json\"\n",
    "api_key = \"AlzaSyCrE4ZTpNDfS1v0sE8ElsyueCArVTJfegQ\"\n",
    "api_query = \"?\"+\"key\"+\"=\"+api_key+\"&\"+\"address\"+\"=\"+address\n",
    "uri = main_api + api_query\n",
    "# uri = main_api+\"?\"+\"key\"+\"=\"+api_key+\"&\"+\"address\"+\"=\"+address\n",
    "print('Creating full request')\n",
    "print(uri)\n",
    "resp  = requests.get(uri)\n",
    "print(\"------1--------\")\n",
    "print(type(resp))\n",
    "#print(dir(resp))\n",
    "#print(dir(requests.adapters))\n",
    "#print(resp.__dict__)\n",
    "print(\"------2--------\")\n",
    "print(resp.status_code)\n",
    "print(\"------3--------\")\n",
    "print(resp.text)\n",
    "print(\"------4--------\")\n",
    "json_data = resp.json()\n",
    "print(type(json_data))\n",
    "print(\"------5--------\")\n",
    "print(json_data)\n",
    "#print(\"------6--------\")\n",
    "#str_doc = json.dumps(json_data, indent=4)\n",
    "#print(str_doc)\n"
   ]
  },
  {
   "cell_type": "code",
   "execution_count": 6,
   "metadata": {},
   "outputs": [
    {
     "name": "stdout",
     "output_type": "stream",
     "text": [
      "Current date and time: \n",
      "2021-01-07 12:23:52.466527\n",
      "Success of the request\n",
      "STATUS\n",
      "------1--------\n",
      "200\n",
      "------2-------\n",
      "REQUEST_DENIED\n",
      "------3-------\n",
      "REQUEST_DENIED\n"
     ]
    }
   ],
   "source": [
    "import datetime\n",
    "print (\"Current date and time: \")\n",
    "print(datetime.datetime.now())\n",
    "print('Success of the request')\n",
    "print(\"STATUS\")\n",
    "print('------1--------')\n",
    "print(resp.status_code)\n",
    "print('------2-------')\n",
    "json_status = json_data[\"status\"]\n",
    "#print(\"API Status: \" + json_status)\n",
    "print(json_status)\n",
    "print('------3-------')\n",
    "alternative = resp.json()[\"status\"]\n",
    "print(alternative)\n",
    "\n"
   ]
  }
 ],
 "metadata": {
  "kernelspec": {
   "display_name": "Python 3",
   "language": "python",
   "name": "python3"
  },
  "language_info": {
   "codemirror_mode": {
    "name": "ipython",
    "version": 3
   },
   "file_extension": ".py",
   "mimetype": "text/x-python",
   "name": "python",
   "nbconvert_exporter": "python",
   "pygments_lexer": "ipython3",
   "version": "3.8.5"
  }
 },
 "nbformat": 4,
 "nbformat_minor": 4
}
