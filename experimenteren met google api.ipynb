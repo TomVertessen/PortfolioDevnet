{
 "cells": [
  {
   "cell_type": "code",
   "execution_count": 1,
   "metadata": {},
   "outputs": [
    {
     "name": "stdout",
     "output_type": "stream",
     "text": [
      "Current date and time: \n",
      "2021-01-07 12:20:26.639581\n",
      "Imported libraries for the script\n",
      "STARTING Google Geocoding API Example Script\n",
      "=> API Calls, Request/Response, Authentication, Data Management/Filtering/Selecting/Transforming\n"
     ]
    }
   ],
   "source": [
    "#### Google Geocoding API\n",
    "#### Y. Rooseleer, BiASC\n",
    "#### => API Calls, Request/Response, Authentication, Data Management/Filtering/Selecting/Transforming\n",
    "import requests\n",
    "import json\n",
    "import datetime\n",
    "print (\"Current date and time: \")\n",
    "print(datetime.datetime.now())\n",
    "print('Imported libraries for the script')\n",
    "print('STARTING Google Geocoding API Example Script')\n",
    "print('=> API Calls, Request/Response, Authentication, Data Management/Filtering/Selecting/Transforming')\n",
    "#dir(urllib)\n",
    "#dir(requests)\n"
   ]
  },
  {
   "cell_type": "code",
   "execution_count": 2,
   "metadata": {},
   "outputs": [
    {
     "name": "stdout",
     "output_type": "stream",
     "text": [
      "Current date and time: \n",
      "2021-01-07 12:20:38.556526\n",
      "Getting input\n",
      "Town or City? Kester\n"
     ]
    }
   ],
   "source": [
    "\n",
    "import datetime\n",
    "print (\"Current date and time: \")\n",
    "print(datetime.datetime.now())\n",
    "print('Getting input')\n",
    "#####\n",
    "address = input(\"Town or City? \")\n",
    "                \n",
    "    "
   ]
  },
  {
   "cell_type": "code",
   "execution_count": 5,
   "metadata": {},
   "outputs": [
    {
     "name": "stdout",
     "output_type": "stream",
     "text": [
      "Current date and time: \n",
      "2021-01-07 12:23:31.908793\n",
      "Creating full request\n",
      "https://maps.googleapis.com/maps/api/geocode/json?key=AlzaSyCrE4ZTpNDfS1v0sE8ElsyueCArVTJfegQ&address=Kester\n",
      "------1--------\n",
      "<class 'requests.models.Response'>\n",
      "------2--------\n",
      "200\n",
      "------3--------\n",
      "{\n",
      "   \"error_message\" : \"The provided API key is invalid.\",\n",
      "   \"results\" : [],\n",
      "   \"status\" : \"REQUEST_DENIED\"\n",
      "}\n",
      "\n",
      "------4--------\n",
      "<class 'dict'>\n",
      "------5--------\n",
      "{'error_message': 'The provided API key is invalid.', 'results': [], 'status': 'REQUEST_DENIED'}\n"
     ]
    }
   ],
   "source": [
    "import requests\n",
    "import datetime\n",
    "import json\n",
    "print (\"Current date and time: \")\n",
    "print(datetime.datetime.now())\n",
    "api_scheme = \"https://\"\n",
    "api_authority = \"maps.googleapis.com\"\n",
    "api_path = \"/maps/api/geocode/json\"\n",
    "main_api = api_scheme + api_authority + api_path\n",
    "#main_api = \"https://maps.googleapis.com/maps/api/geocode/json\"\n",
    "api_key = \"AlzaSyCrE4ZTpNDfS1v0sE8ElsyueCArVTJfegQ\"\n",
    "api_query = \"?\"+\"key\"+\"=\"+api_key+\"&\"+\"address\"+\"=\"+address\n",
    "uri = main_api + api_query\n",
    "# uri = main_api+\"?\"+\"key\"+\"=\"+api_key+\"&\"+\"address\"+\"=\"+address\n",
    "print('Creating full request')\n",
    "print(uri)\n",
    "resp  = requests.get(uri)\n",
    "print(\"------1--------\")\n",
    "print(type(resp))\n",
    "#print(dir(resp))\n",
    "#print(dir(requests.adapters))\n",
    "#print(resp.__dict__)\n",
    "print(\"------2--------\")\n",
    "print(resp.status_code)\n",
    "print(\"------3--------\")\n",
    "print(resp.text)\n",
    "print(\"------4--------\")\n",
    "json_data = resp.json()\n",
    "print(type(json_data))\n",
    "print(\"------5--------\")\n",
    "print(json_data)\n",
    "#print(\"------6--------\")\n",
    "#str_doc = json.dumps(json_data, indent=4)\n",
    "#print(str_doc)\n"
   ]
  },
  {
   "cell_type": "code",
   "execution_count": 6,
   "metadata": {},
   "outputs": [
    {
     "name": "stdout",
     "output_type": "stream",
     "text": [
      "Current date and time: \n",
      "2021-01-07 12:23:52.466527\n",
      "Success of the request\n",
      "STATUS\n",
      "------1--------\n",
      "200\n",
      "------2-------\n",
      "REQUEST_DENIED\n",
      "------3-------\n",
      "REQUEST_DENIED\n"
     ]
    }
   ],
   "source": [
    "import datetime\n",
    "print (\"Current date and time: \")\n",
    "print(datetime.datetime.now())\n",
    "print('Success of the request')\n",
    "print(\"STATUS\")\n",
    "print('------1--------')\n",
    "print(resp.status_code)\n",
    "print('------2-------')\n",
    "json_status = json_data[\"status\"]\n",
    "#print(\"API Status: \" + json_status)\n",
    "print(json_status)\n",
    "print('------3-------')\n",
    "alternative = resp.json()[\"status\"]\n",
    "print(alternative)\n",
    "\n"
   ]
  },
  {
   "cell_type": "code",
   "execution_count": 7,
   "metadata": {},
   "outputs": [
    {
     "name": "stdout",
     "output_type": "stream",
     "text": [
      "Current date and time: \n",
      "2021-01-07 12:24:26.793927\n",
      "Raw result of the request\n",
      "RAW RESULT IN JSON - STATUS CODE\n",
      "200\n"
     ]
    }
   ],
   "source": [
    "print (\"Current date and time: \")\n",
    "print(datetime.datetime.now())\n",
    "print('Raw result of the request')\n",
    "if resp.status_code == 200:\n",
    "    print(\"RAW RESULT IN JSON - STATUS CODE\")\n",
    "    print(resp.status_code)\n",
    "if json_status == \"OK\":\n",
    "    print(\"RAW RESULT IN JSON - STATUS TEXT\")\n",
    "    print( json_status )\n",
    "    print('--------------')\n",
    "    print(json_data)\n",
    "    print('--------------')\n"
   ]
  },
  {
   "cell_type": "code",
   "execution_count": 8,
   "metadata": {},
   "outputs": [
    {
     "name": "stdout",
     "output_type": "stream",
     "text": [
      "Current date and time: \n",
      "2021-01-07 12:24:48.829025\n",
      "Keys in the response\n"
     ]
    },
    {
     "ename": "AttributeError",
     "evalue": "'dict' object has no attribute 'iteritems'",
     "output_type": "error",
     "traceback": [
      "\u001b[1;31m---------------------------------------------------------------------------\u001b[0m",
      "\u001b[1;31mAttributeError\u001b[0m                            Traceback (most recent call last)",
      "\u001b[1;32m<ipython-input-8-1aaa502fea0e>\u001b[0m in \u001b[0;36m<module>\u001b[1;34m\u001b[0m\n\u001b[0;32m     27\u001b[0m                              'key4b': 'value4b'}\n\u001b[0;32m     28\u001b[0m                 }\n\u001b[1;32m---> 29\u001b[1;33m \u001b[0mprint_dict\u001b[0m\u001b[1;33m(\u001b[0m\u001b[0mexample_dict\u001b[0m\u001b[1;33m)\u001b[0m\u001b[1;33m\u001b[0m\u001b[1;33m\u001b[0m\u001b[0m\n\u001b[0m\u001b[0;32m     30\u001b[0m \u001b[1;31m#print_dict(json_data)\u001b[0m\u001b[1;33m\u001b[0m\u001b[1;33m\u001b[0m\u001b[1;33m\u001b[0m\u001b[0m\n\u001b[0;32m     31\u001b[0m \u001b[1;33m\u001b[0m\u001b[0m\n",
      "\u001b[1;32m<ipython-input-8-1aaa502fea0e>\u001b[0m in \u001b[0;36mprint_dict\u001b[1;34m(dictionary, ident, braces)\u001b[0m\n\u001b[0;32m     10\u001b[0m     \u001b[1;34m\"\"\" Recursively prints nested dictionaries.\"\"\"\u001b[0m\u001b[1;33m\u001b[0m\u001b[1;33m\u001b[0m\u001b[0m\n\u001b[0;32m     11\u001b[0m \u001b[1;33m\u001b[0m\u001b[0m\n\u001b[1;32m---> 12\u001b[1;33m     \u001b[1;32mfor\u001b[0m \u001b[0mkey\u001b[0m\u001b[1;33m,\u001b[0m \u001b[0mvalue\u001b[0m \u001b[1;32min\u001b[0m \u001b[0mdictionary\u001b[0m\u001b[1;33m.\u001b[0m\u001b[0miteritems\u001b[0m\u001b[1;33m(\u001b[0m\u001b[1;33m)\u001b[0m\u001b[1;33m:\u001b[0m\u001b[1;33m\u001b[0m\u001b[1;33m\u001b[0m\u001b[0m\n\u001b[0m\u001b[0;32m     13\u001b[0m         \u001b[1;32mif\u001b[0m \u001b[0misinstance\u001b[0m\u001b[1;33m(\u001b[0m\u001b[0mvalue\u001b[0m\u001b[1;33m,\u001b[0m \u001b[0mdict\u001b[0m\u001b[1;33m)\u001b[0m\u001b[1;33m:\u001b[0m\u001b[1;33m\u001b[0m\u001b[1;33m\u001b[0m\u001b[0m\n\u001b[0;32m     14\u001b[0m             \u001b[1;31m#print('%s%s%s%s' %(ident,braces*'[',key,braces*']'))\u001b[0m\u001b[1;33m\u001b[0m\u001b[1;33m\u001b[0m\u001b[1;33m\u001b[0m\u001b[0m\n",
      "\u001b[1;31mAttributeError\u001b[0m: 'dict' object has no attribute 'iteritems'"
     ]
    }
   ],
   "source": [
    "\n",
    "##### => PRINT ALL KEYS (TREE STRUCTURE)\n",
    "##### NOT FINISHED \n",
    "print (\"Current date and time: \")\n",
    "print(datetime.datetime.now())\n",
    "print('Keys in the response')\n",
    "    \n",
    "#! /usr/bin/python\n",
    "\n",
    "def print_dict(dictionary, ident = '', braces=1):\n",
    "    \"\"\" Recursively prints nested dictionaries.\"\"\"\n",
    "\n",
    "    for key, value in dictionary.iteritems():\n",
    "        if isinstance(value, dict):\n",
    "            #print('%s%s%s%s' %(ident,braces*'[',key,braces*']'))\n",
    "            print_dict(value, ident+'  ', braces+1)\n",
    "        else:\n",
    "            print(ident+'%s = %s' %(key, value))\n",
    "\n",
    "#if __name__ == '__main__':\n",
    "\n",
    "example_dict = { 'key1' : 'value1',\n",
    "                 'key2' : 'value2',\n",
    "                 'key3' : { 'key3a': 'value3a' },\n",
    "                 'key4' : { 'key4a': { 'key4aa': 'value4aa',\n",
    "                                       'key4ab': 'value4ab',\n",
    "                                       'key4ac': 'value4ac'},\n",
    "                             'key4b': 'value4b'}\n",
    "                }\n",
    "print_dict(example_dict)\n",
    "#print_dict(json_data)\n",
    "\n"
   ]
  },
  {
   "cell_type": "code",
   "execution_count": 9,
   "metadata": {},
   "outputs": [
    {
     "name": "stdout",
     "output_type": "stream",
     "text": [
      "Current date and time: \n",
      "2021-01-07 12:25:06.722289\n",
      "Filtered result of the request\n"
     ]
    }
   ],
   "source": [
    "print (\"Current date and time: \")\n",
    "print(datetime.datetime.now())\n",
    "print('Filtered result of the request')\n",
    "if json_status == \"OK\":\n",
    "    print(\"SELECTED RESULT A \")\n",
    "    print('------1-------')\n",
    "    selection = json_data['results'][0]['formatted_address']\n",
    "    print(selection)\n",
    "    print('------2--------')\n",
    "    selection = json_data['results'][0]['geometry']['location']\n",
    "    print(selection)\n",
    "    print('------3--------')\n",
    "    selection = json_data['results'][0]['geometry']['location']['lat']\n",
    "    print(selection)\n",
    "    selection = json_data['results'][0]['geometry']['location']['lng']\n",
    "    print(selection)\n"
   ]
  },
  {
   "cell_type": "code",
   "execution_count": 10,
   "metadata": {},
   "outputs": [
    {
     "name": "stdout",
     "output_type": "stream",
     "text": [
      "Current date and time: \n",
      "2021-01-07 12:25:21.556961\n"
     ]
    }
   ],
   "source": [
    "print (\"Current date and time: \")\n",
    "print(datetime.datetime.now())\n",
    "if json_status == \"OK\":\n",
    "    print(\"SELECTED RESULT B \")\n",
    "    print('--------------')\n",
    "    selection1 = json_data['results'][0]['address_components'][0]['long_name']\n",
    "    selection2 = json_data['results'][0]['address_components'][1]['long_name']\n",
    "    selection3 = json_data['results'][0]['address_components'][2]['long_name']\n",
    "    selection4 = json_data['results'][0]['address_components'][3]['long_name']\n",
    "    print(selection1)\n",
    "    print(selection2)\n",
    "    print(selection3)\n",
    "    print(selection4)\n",
    "    print('--------------')"
   ]
  },
  {
   "cell_type": "code",
   "execution_count": 11,
   "metadata": {},
   "outputs": [
    {
     "name": "stdout",
     "output_type": "stream",
     "text": [
      "Current date and time: \n",
      "2021-01-07 12:25:32.939157\n",
      "SELECTED RESULT C \n",
      "--------------\n",
      "--------------\n"
     ]
    }
   ],
   "source": [
    "\n",
    "print (\"Current date and time: \")\n",
    "print(datetime.datetime.now())\n",
    "print(\"SELECTED RESULT C \")\n",
    "print('--------------')\n",
    "if json_status == \"OK\":\n",
    "    print(\"LOOPING THROUGH RESULTS\")\n",
    "    for each in json_data[\"results\"][0][\"address_components\"]:\n",
    "        print(each[\"long_name\"])\n",
    "print('--------------')"
   ]
  }
 ],
 "metadata": {
  "kernelspec": {
   "display_name": "Python 3",
   "language": "python",
   "name": "python3"
  },
  "language_info": {
   "codemirror_mode": {
    "name": "ipython",
    "version": 3
   },
   "file_extension": ".py",
   "mimetype": "text/x-python",
   "name": "python",
   "nbconvert_exporter": "python",
   "pygments_lexer": "ipython3",
   "version": "3.8.5"
  }
 },
 "nbformat": 4,
 "nbformat_minor": 4
}
